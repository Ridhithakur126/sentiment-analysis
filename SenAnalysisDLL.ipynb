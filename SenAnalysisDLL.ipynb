{
 "cells": [
  {
   "cell_type": "code",
   "execution_count": 710,
   "id": "db8077c1",
   "metadata": {},
   "outputs": [
    {
     "name": "stdout",
     "output_type": "stream",
     "text": [
      "Requirement already satisfied: tensorflow in /opt/anaconda3/lib/python3.12/site-packages (2.16.1)\n",
      "Requirement already satisfied: absl-py>=1.0.0 in /opt/anaconda3/lib/python3.12/site-packages (from tensorflow) (2.1.0)\n",
      "Requirement already satisfied: astunparse>=1.6.0 in /opt/anaconda3/lib/python3.12/site-packages (from tensorflow) (1.6.3)\n",
      "Requirement already satisfied: flatbuffers>=23.5.26 in /opt/anaconda3/lib/python3.12/site-packages (from tensorflow) (24.3.25)\n",
      "Requirement already satisfied: gast!=0.5.0,!=0.5.1,!=0.5.2,>=0.2.1 in /opt/anaconda3/lib/python3.12/site-packages (from tensorflow) (0.6.0)\n",
      "Requirement already satisfied: google-pasta>=0.1.1 in /opt/anaconda3/lib/python3.12/site-packages (from tensorflow) (0.2.0)\n",
      "Requirement already satisfied: h5py>=3.10.0 in /opt/anaconda3/lib/python3.12/site-packages (from tensorflow) (3.11.0)\n",
      "Requirement already satisfied: libclang>=13.0.0 in /opt/anaconda3/lib/python3.12/site-packages (from tensorflow) (18.1.1)\n",
      "Requirement already satisfied: ml-dtypes~=0.3.1 in /opt/anaconda3/lib/python3.12/site-packages (from tensorflow) (0.3.2)\n",
      "Requirement already satisfied: opt-einsum>=2.3.2 in /opt/anaconda3/lib/python3.12/site-packages (from tensorflow) (3.3.0)\n",
      "Requirement already satisfied: packaging in /opt/anaconda3/lib/python3.12/site-packages (from tensorflow) (23.2)\n",
      "Requirement already satisfied: protobuf!=4.21.0,!=4.21.1,!=4.21.2,!=4.21.3,!=4.21.4,!=4.21.5,<5.0.0dev,>=3.20.3 in /opt/anaconda3/lib/python3.12/site-packages (from tensorflow) (3.20.3)\n",
      "Requirement already satisfied: requests<3,>=2.21.0 in /opt/anaconda3/lib/python3.12/site-packages (from tensorflow) (2.32.2)\n",
      "Requirement already satisfied: setuptools in /opt/anaconda3/lib/python3.12/site-packages (from tensorflow) (69.5.1)\n",
      "Requirement already satisfied: six>=1.12.0 in /opt/anaconda3/lib/python3.12/site-packages (from tensorflow) (1.16.0)\n",
      "Requirement already satisfied: termcolor>=1.1.0 in /opt/anaconda3/lib/python3.12/site-packages (from tensorflow) (2.4.0)\n",
      "Requirement already satisfied: typing-extensions>=3.6.6 in /opt/anaconda3/lib/python3.12/site-packages (from tensorflow) (4.11.0)\n",
      "Requirement already satisfied: wrapt>=1.11.0 in /opt/anaconda3/lib/python3.12/site-packages (from tensorflow) (1.14.1)\n",
      "Requirement already satisfied: grpcio<2.0,>=1.24.3 in /opt/anaconda3/lib/python3.12/site-packages (from tensorflow) (1.65.5)\n",
      "Requirement already satisfied: tensorboard<2.17,>=2.16 in /opt/anaconda3/lib/python3.12/site-packages (from tensorflow) (2.16.2)\n",
      "Requirement already satisfied: keras>=3.0.0 in /opt/anaconda3/lib/python3.12/site-packages (from tensorflow) (3.5.0)\n",
      "Requirement already satisfied: numpy<2.0.0,>=1.26.0 in /opt/anaconda3/lib/python3.12/site-packages (from tensorflow) (1.26.4)\n",
      "Requirement already satisfied: wheel<1.0,>=0.23.0 in /opt/anaconda3/lib/python3.12/site-packages (from astunparse>=1.6.0->tensorflow) (0.43.0)\n",
      "Requirement already satisfied: rich in /opt/anaconda3/lib/python3.12/site-packages (from keras>=3.0.0->tensorflow) (13.3.5)\n",
      "Requirement already satisfied: namex in /opt/anaconda3/lib/python3.12/site-packages (from keras>=3.0.0->tensorflow) (0.0.8)\n",
      "Requirement already satisfied: optree in /opt/anaconda3/lib/python3.12/site-packages (from keras>=3.0.0->tensorflow) (0.12.1)\n",
      "Requirement already satisfied: charset-normalizer<4,>=2 in /opt/anaconda3/lib/python3.12/site-packages (from requests<3,>=2.21.0->tensorflow) (2.0.4)\n",
      "Requirement already satisfied: idna<4,>=2.5 in /opt/anaconda3/lib/python3.12/site-packages (from requests<3,>=2.21.0->tensorflow) (3.7)\n",
      "Requirement already satisfied: urllib3<3,>=1.21.1 in /opt/anaconda3/lib/python3.12/site-packages (from requests<3,>=2.21.0->tensorflow) (2.2.2)\n",
      "Requirement already satisfied: certifi>=2017.4.17 in /opt/anaconda3/lib/python3.12/site-packages (from requests<3,>=2.21.0->tensorflow) (2024.7.4)\n",
      "Requirement already satisfied: markdown>=2.6.8 in /opt/anaconda3/lib/python3.12/site-packages (from tensorboard<2.17,>=2.16->tensorflow) (3.4.1)\n",
      "Requirement already satisfied: tensorboard-data-server<0.8.0,>=0.7.0 in /opt/anaconda3/lib/python3.12/site-packages (from tensorboard<2.17,>=2.16->tensorflow) (0.7.2)\n",
      "Requirement already satisfied: werkzeug>=1.0.1 in /opt/anaconda3/lib/python3.12/site-packages (from tensorboard<2.17,>=2.16->tensorflow) (3.0.3)\n",
      "Requirement already satisfied: MarkupSafe>=2.1.1 in /opt/anaconda3/lib/python3.12/site-packages (from werkzeug>=1.0.1->tensorboard<2.17,>=2.16->tensorflow) (2.1.3)\n",
      "Requirement already satisfied: markdown-it-py<3.0.0,>=2.2.0 in /opt/anaconda3/lib/python3.12/site-packages (from rich->keras>=3.0.0->tensorflow) (2.2.0)\n",
      "Requirement already satisfied: pygments<3.0.0,>=2.13.0 in /opt/anaconda3/lib/python3.12/site-packages (from rich->keras>=3.0.0->tensorflow) (2.15.1)\n",
      "Requirement already satisfied: mdurl~=0.1 in /opt/anaconda3/lib/python3.12/site-packages (from markdown-it-py<3.0.0,>=2.2.0->rich->keras>=3.0.0->tensorflow) (0.1.0)\n",
      "Note: you may need to restart the kernel to use updated packages.\n"
     ]
    }
   ],
   "source": [
    "pip install tensorflow\n"
   ]
  },
  {
   "cell_type": "code",
   "execution_count": 712,
   "id": "423f9b92-cf8e-4255-a0e6-7a57822d2447",
   "metadata": {},
   "outputs": [
    {
     "name": "stdout",
     "output_type": "stream",
     "text": [
      "Requirement already satisfied: scikit-learn in /opt/anaconda3/lib/python3.12/site-packages (1.4.2)\n",
      "Requirement already satisfied: numpy>=1.19.5 in /opt/anaconda3/lib/python3.12/site-packages (from scikit-learn) (1.26.4)\n",
      "Requirement already satisfied: scipy>=1.6.0 in /opt/anaconda3/lib/python3.12/site-packages (from scikit-learn) (1.13.1)\n",
      "Requirement already satisfied: joblib>=1.2.0 in /opt/anaconda3/lib/python3.12/site-packages (from scikit-learn) (1.4.2)\n",
      "Requirement already satisfied: threadpoolctl>=2.0.0 in /opt/anaconda3/lib/python3.12/site-packages (from scikit-learn) (2.2.0)\n",
      "Note: you may need to restart the kernel to use updated packages.\n"
     ]
    }
   ],
   "source": [
    "pip install scikit-learn\n"
   ]
  },
  {
   "cell_type": "code",
   "execution_count": 714,
   "id": "4fe5d31d-fc3f-4ef3-adc5-cf66b056795c",
   "metadata": {},
   "outputs": [
    {
     "name": "stdout",
     "output_type": "stream",
     "text": [
      "Requirement already satisfied: scikit-learn in /opt/anaconda3/lib/python3.12/site-packages (1.4.2)\n",
      "Requirement already satisfied: numpy>=1.19.5 in /opt/anaconda3/lib/python3.12/site-packages (from scikit-learn) (1.26.4)\n",
      "Requirement already satisfied: scipy>=1.6.0 in /opt/anaconda3/lib/python3.12/site-packages (from scikit-learn) (1.13.1)\n",
      "Requirement already satisfied: joblib>=1.2.0 in /opt/anaconda3/lib/python3.12/site-packages (from scikit-learn) (1.4.2)\n",
      "Requirement already satisfied: threadpoolctl>=2.0.0 in /opt/anaconda3/lib/python3.12/site-packages (from scikit-learn) (2.2.0)\n",
      "Note: you may need to restart the kernel to use updated packages.\n"
     ]
    }
   ],
   "source": [
    "pip install scikit-learn\n"
   ]
  },
  {
   "cell_type": "code",
   "execution_count": 716,
   "id": "369792a2-7d67-466a-a7a0-d9e9adbaa9cb",
   "metadata": {},
   "outputs": [],
   "source": [
    "import seaborn as sns\n",
    "import matplotlib.pyplot as plt\n"
   ]
  },
  {
   "cell_type": "code",
   "execution_count": 718,
   "id": "e6a9fe2a",
   "metadata": {},
   "outputs": [],
   "source": [
    "import pandas as pd\n",
    "import numpy as np\n",
    "import tensorflow as tf\n",
    "from tensorflow.keras.preprocessing.text import Tokenizer\n",
    "from tensorflow.keras.preprocessing.sequence import pad_sequences\n",
    "from tensorflow.keras.models import Sequential\n",
    "from tensorflow.keras.layers import LSTM, Dropout\n",
    "from tensorflow.keras.layers import Embedding, SimpleRNN, Dense\n",
    "from tensorflow.keras.metrics import Precision, Recall\n",
    "from tensorflow.keras.losses import categorical_crossentropy\n",
    "from tensorflow.keras.optimizers import Adam\n",
    "from tensorflow.keras.layers import GRU\n",
    "from tensorflow.keras.callbacks import EarlyStopping\n",
    "from tensorflow.keras.losses import categorical_crossentropy\n",
    "from tensorflow.keras.optimizers import Adam\n",
    "from sklearn.model_selection import train_test_split\n",
    "\n",
    "\n",
    "\n",
    "# Load the CSV dataset\n",
    "data = pd.read_csv('/Users/ridhithakur/Downloads/punjabi_lexicon.csv')\n",
    "\n"
   ]
  },
  {
   "cell_type": "code",
   "execution_count": 720,
   "id": "b0da66db-0af0-47b9-a146-38e7c7e9bb6a",
   "metadata": {},
   "outputs": [
    {
     "data": {
      "text/plain": [
       "(19010, 3)"
      ]
     },
     "execution_count": 720,
     "metadata": {},
     "output_type": "execute_result"
    }
   ],
   "source": [
    "data.shape"
   ]
  },
  {
   "cell_type": "code",
   "execution_count": 722,
   "id": "2786c4f7",
   "metadata": {},
   "outputs": [
    {
     "name": "stdout",
     "output_type": "stream",
     "text": [
      "      Word  Positive Score  Negative Score Sentiment\n",
      "0  ਅਪ੍ਰਤੱਖ           0.125           0.625  negative\n",
      "1     ਤੰਗਲ           0.000           0.000   neutral\n",
      "2    ਸਿਲਾਈ           0.000           0.000   neutral\n",
      "3    ਸੁਹਣੇ           0.750           0.000  positive\n",
      "4   ਵਿਨਾਸ਼ੀ           0.000           0.750  negative\n"
     ]
    }
   ],
   "source": [
    "# Adding the 'Sentiment' column based on the scores\n",
    "threshold = 0.19\n",
    "\n",
    "def classify_sentiment(row):\n",
    "    if row['Positive Score'] - row['Negative Score'] > threshold:\n",
    "        return 'positive'\n",
    "    elif row['Negative Score'] - row['Positive Score'] > threshold:\n",
    "        return 'negative'\n",
    "    else:\n",
    "        return 'neutral'\n",
    "\n",
    "data['Sentiment'] = data.apply(classify_sentiment, axis=1)\n",
    "\n",
    "# Ensure the 'Sentiment' column is correctly added\n",
    "print(data.head())\n"
   ]
  },
  {
   "cell_type": "code",
   "execution_count": 724,
   "id": "904b6075-d900-4c00-95d0-43dc7e3d5568",
   "metadata": {},
   "outputs": [
    {
     "name": "stdout",
     "output_type": "stream",
     "text": [
      "Unique values in Sentiment column:\n",
      "['negative' 'neutral' 'positive']\n",
      "Summary statistics for Positive Score:\n",
      "count    19010.000000\n",
      "mean         0.147378\n",
      "std          0.180280\n",
      "min          0.000000\n",
      "25%          0.000000\n",
      "50%          0.125000\n",
      "75%          0.250000\n",
      "max          1.000000\n",
      "Name: Positive Score, dtype: float64\n",
      "Summary statistics for Negative Score:\n",
      "count    19010.000000\n",
      "mean         0.168183\n",
      "std          0.205879\n",
      "min          0.000000\n",
      "25%          0.000000\n",
      "50%          0.125000\n",
      "75%          0.291667\n",
      "max          1.000000\n",
      "Name: Negative Score, dtype: float64\n"
     ]
    }
   ],
   "source": [
    "data = data.dropna(subset=['Word', 'Sentiment'])\n",
    "# Check unique values in the Sentiment column\n",
    "print(\"Unique values in Sentiment column:\")\n",
    "print(data['Sentiment'].unique())\n",
    "\n",
    "# Check for outliers or unexpected values in Positive Score and Negative Score\n",
    "print(\"Summary statistics for Positive Score:\")\n",
    "print(data['Positive Score'].describe())\n",
    "\n",
    "print(\"Summary statistics for Negative Score:\")\n",
    "print(data['Negative Score'].describe())"
   ]
  },
  {
   "cell_type": "code",
   "execution_count": 726,
   "id": "c4742b08-8921-4f88-b042-3efd24f741d3",
   "metadata": {},
   "outputs": [
    {
     "name": "stderr",
     "output_type": "stream",
     "text": [
      "/var/folders/_j/gpk07jgx4wnbm9gvr4sjkyw00000gn/T/ipykernel_12256/3354587804.py:6: UserWarning: set_ticklabels() should only be used with a fixed number of ticks, i.e. after set_ticks() or using a FixedLocator.\n",
      "  ax.set_xticklabels(class_names)\n"
     ]
    },
    {
     "data": {
      "image/png": "[encoded data removed]",
      "text/plain": [
       "<Figure size 640x480 with 1 Axes>"
      ]
     },
     "metadata": {},
     "output_type": "display_data"
    },
    {
     "name": "stdout",
     "output_type": "stream",
     "text": [
      "Sentiment\n",
      "negative    3225\n",
      "positive    2393\n",
      "neutral     2393\n",
      "Name: count, dtype: int64\n"
     ]
    }
   ],
   "source": [
    "\n",
    "\n",
    "# Plot the distribution of sentiments\n",
    "class_names = ['Negative', 'Neutral', 'Positive']\n",
    "ax = sns.countplot(x=data['Sentiment'])\n",
    "plt.xlabel('Review Sentiment')\n",
    "plt.ylabel('Count')\n",
    "ax.set_xticklabels(class_names)\n",
    "plt.title('Distribution of Sentiments')\n",
    "plt.show()\n",
    "print(balanced_data['Sentiment'].value_counts())"
   ]
  },
  {
   "cell_type": "code",
   "execution_count": 728,
   "id": "71f4488d-30eb-4d4c-8071-b4a1ad5787cb",
   "metadata": {},
   "outputs": [
    {
     "name": "stdout",
     "output_type": "stream",
     "text": [
      "Class distribution in balanced dataset:\n",
      "Sentiment\n",
      "negative    3225\n",
      "positive    2393\n",
      "neutral     2393\n",
      "Name: count, dtype: int64\n"
     ]
    }
   ],
   "source": [
    "# Separate majority and minority classes\n",
    "neutral = data[data['Sentiment'] == 'neutral']\n",
    "positive = data[data['Sentiment'] == 'positive']\n",
    "negative = data[data['Sentiment'] == 'negative']\n",
    "\n",
    "# Define the number of samples you want for the balanced dataset\n",
    "num_samples = min(len(positive), len(negative))  # Choose the minimum count of the minority classes\n",
    "\n",
    "# Randomly sample from the majority class (neutral)\n",
    "neutral_undersampled = resample(neutral, \n",
    "                                replace=False,    # Do not sample with replacement\n",
    "                                n_samples=num_samples,  # Match number of samples to minority classes\n",
    "                                random_state=42)  # Set seed for reproducibility\n",
    "\n",
    "# Combine the undersampled neutral class with the positive and negative classes\n",
    "balanced_data = pd.concat([positive, negative, neutral_undersampled])\n",
    "\n",
    "# Shuffle the data to mix the rows\n",
    "balanced_data = balanced_data.sample(frac=1, random_state=42).reset_index(drop=True)\n",
    "\n",
    "# Verify the class distribution in the balanced dataset\n",
    "print(\"Class distribution in balanced dataset:\")\n",
    "print(balanced_data['Sentiment'].value_counts())\n"
   ]
  },
  {
   "cell_type": "code",
   "execution_count": 730,
   "id": "1763b344-ff01-478f-9029-7c26566b4cbe",
   "metadata": {},
   "outputs": [
    {
     "name": "stderr",
     "output_type": "stream",
     "text": [
      "/var/folders/_j/gpk07jgx4wnbm9gvr4sjkyw00000gn/T/ipykernel_12256/595734622.py:6: FutureWarning: \n",
      "\n",
      "Passing `palette` without assigning `hue` is deprecated and will be removed in v0.14.0. Assign the `x` variable to `hue` and set `legend=False` for the same effect.\n",
      "\n",
      "  sns.barplot(x=class_distribution.index, y=class_distribution.values, palette='viridis')\n"
     ]
    },
    {
     "data": {
      "image/png": "[encoded data removed]",
      "text/plain": [
       "<Figure size 800x600 with 1 Axes>"
      ]
     },
     "metadata": {},
     "output_type": "display_data"
    }
   ],
   "source": [
    "# Verify the class distribution in the balanced dataset\n",
    "class_distribution = balanced_data['Sentiment'].value_counts()\n",
    "\n",
    "# Create a bar plot for class distribution\n",
    "plt.figure(figsize=(8, 6))\n",
    "sns.barplot(x=class_distribution.index, y=class_distribution.values, palette='viridis')\n",
    "plt.xlabel('Sentiment')\n",
    "plt.ylabel('Number of Samples')\n",
    "plt.title('Class Distribution in Balanced Dataset')\n",
    "plt.show()"
   ]
  },
  {
   "cell_type": "code",
   "execution_count": 732,
   "id": "75d63868-e191-4f67-a86f-0d88e0126e5e",
   "metadata": {},
   "outputs": [],
   "source": [
    "# Prepare input and target data\n",
    "tokenizer = Tokenizer()\n",
    "tokenizer.fit_on_texts(data['Word'])\n",
    "X = tokenizer.texts_to_sequences(data['Word'])\n",
    "X = pad_sequences(X)\n",
    "y = pd.get_dummies(data['Sentiment']).values\n"
   ]
  },
  {
   "cell_type": "code",
   "execution_count": 734,
   "id": "271e98b5-80b9-494e-b4dd-b8c9f382306b",
   "metadata": {},
   "outputs": [],
   "source": [
    "\n",
    "# Train-test split\n",
    "X_train, X_test, y_train, y_test = train_test_split(X, y, test_size=0.2, random_state=42)"
   ]
  },
  {
   "cell_type": "code",
   "execution_count": 736,
   "id": "4ac68534-497f-43bd-820f-46fa6c287028",
   "metadata": {},
   "outputs": [
    {
     "name": "stdout",
     "output_type": "stream",
     "text": [
      "Epoch 1/20\n"
     ]
    },
    {
     "name": "stderr",
     "output_type": "stream",
     "text": [
      "/opt/anaconda3/lib/python3.12/site-packages/keras/src/layers/core/embedding.py:90: UserWarning: Argument `input_length` is deprecated. Just remove it.\n",
      "  warnings.warn(\n"
     ]
    },
    {
     "name": "stdout",
     "output_type": "stream",
     "text": [
      "\u001b[1m476/476\u001b[0m \u001b[32m━━━━━━━━━━━━━━━━━━━━\u001b[0m\u001b[37m\u001b[0m \u001b[1m5s\u001b[0m 8ms/step - accuracy: 0.7002 - loss: 0.8311 - precision_30: 0.6986 - recall_30: 0.6822 - val_accuracy: 0.7083 - val_loss: 0.8024 - val_precision_30: 0.7083 - val_recall_30: 0.7083\n",
      "Epoch 2/20\n",
      "\u001b[1m476/476\u001b[0m \u001b[32m━━━━━━━━━━━━━━━━━━━━\u001b[0m\u001b[37m\u001b[0m \u001b[1m2s\u001b[0m 5ms/step - accuracy: 0.7582 - loss: 0.6384 - precision_30: 0.7754 - recall_30: 0.7344 - val_accuracy: 0.5587 - val_loss: 1.1427 - val_precision_30: 0.5814 - val_recall_30: 0.5110\n",
      "Epoch 3/20\n",
      "\u001b[1m476/476\u001b[0m \u001b[32m━━━━━━━━━━━━━━━━━━━━\u001b[0m\u001b[37m\u001b[0m \u001b[1m2s\u001b[0m 5ms/step - accuracy: 0.9850 - loss: 0.0479 - precision_30: 0.9854 - recall_30: 0.9843 - val_accuracy: 0.5150 - val_loss: 1.2615 - val_precision_30: 0.5252 - val_recall_30: 0.4687\n",
      "Epoch 4/20\n",
      "\u001b[1m476/476\u001b[0m \u001b[32m━━━━━━━━━━━━━━━━━━━━\u001b[0m\u001b[37m\u001b[0m \u001b[1m2s\u001b[0m 5ms/step - accuracy: 0.9949 - loss: 0.0141 - precision_30: 0.9960 - recall_30: 0.9949 - val_accuracy: 0.6591 - val_loss: 1.3331 - val_precision_30: 0.6614 - val_recall_30: 0.6489\n",
      "Epoch 5/20\n",
      "\u001b[1m476/476\u001b[0m \u001b[32m━━━━━━━━━━━━━━━━━━━━\u001b[0m\u001b[37m\u001b[0m \u001b[1m2s\u001b[0m 5ms/step - accuracy: 0.9975 - loss: 0.0067 - precision_30: 0.9980 - recall_30: 0.9974 - val_accuracy: 0.6389 - val_loss: 1.4299 - val_precision_30: 0.6454 - val_recall_30: 0.6252\n",
      "Epoch 6/20\n",
      "\u001b[1m476/476\u001b[0m \u001b[32m━━━━━━━━━━━━━━━━━━━━\u001b[0m\u001b[37m\u001b[0m \u001b[1m2s\u001b[0m 5ms/step - accuracy: 0.9980 - loss: 0.0049 - precision_30: 0.9982 - recall_30: 0.9980 - val_accuracy: 0.6502 - val_loss: 1.5173 - val_precision_30: 0.6531 - val_recall_30: 0.6457\n",
      "Epoch 7/20\n",
      "\u001b[1m476/476\u001b[0m \u001b[32m━━━━━━━━━━━━━━━━━━━━\u001b[0m\u001b[37m\u001b[0m \u001b[1m2s\u001b[0m 5ms/step - accuracy: 0.9986 - loss: 0.0039 - precision_30: 0.9986 - recall_30: 0.9980 - val_accuracy: 0.6489 - val_loss: 1.5413 - val_precision_30: 0.6536 - val_recall_30: 0.6373\n",
      "Epoch 8/20\n",
      "\u001b[1m476/476\u001b[0m \u001b[32m━━━━━━━━━━━━━━━━━━━━\u001b[0m\u001b[37m\u001b[0m \u001b[1m2s\u001b[0m 5ms/step - accuracy: 0.9986 - loss: 0.0050 - precision_30: 0.9987 - recall_30: 0.9986 - val_accuracy: 0.5918 - val_loss: 1.6272 - val_precision_30: 0.5982 - val_recall_30: 0.5834\n",
      "Epoch 9/20\n",
      "\u001b[1m476/476\u001b[0m \u001b[32m━━━━━━━━━━━━━━━━━━━━\u001b[0m\u001b[37m\u001b[0m \u001b[1m2s\u001b[0m 5ms/step - accuracy: 0.9984 - loss: 0.0054 - precision_30: 0.9984 - recall_30: 0.9983 - val_accuracy: 0.6591 - val_loss: 1.4990 - val_precision_30: 0.6618 - val_recall_30: 0.6502\n",
      "Epoch 10/20\n",
      "\u001b[1m476/476\u001b[0m \u001b[32m━━━━━━━━━━━━━━━━━━━━\u001b[0m\u001b[37m\u001b[0m \u001b[1m2s\u001b[0m 5ms/step - accuracy: 0.9991 - loss: 0.0033 - precision_30: 0.9991 - recall_30: 0.9991 - val_accuracy: 0.3482 - val_loss: 2.4350 - val_precision_30: 0.3482 - val_recall_30: 0.3472\n",
      "Epoch 11/20\n",
      "\u001b[1m476/476\u001b[0m \u001b[32m━━━━━━━━━━━━━━━━━━━━\u001b[0m\u001b[37m\u001b[0m \u001b[1m2s\u001b[0m 5ms/step - accuracy: 0.9980 - loss: 0.0084 - precision_30: 0.9980 - recall_30: 0.9980 - val_accuracy: 0.6126 - val_loss: 1.7328 - val_precision_30: 0.6150 - val_recall_30: 0.6097\n",
      "Epoch 12/20\n",
      "\u001b[1m476/476\u001b[0m \u001b[32m━━━━━━━━━━━━━━━━━━━━\u001b[0m\u001b[37m\u001b[0m \u001b[1m2s\u001b[0m 5ms/step - accuracy: 0.9981 - loss: 0.0055 - precision_30: 0.9981 - recall_30: 0.9981 - val_accuracy: 0.7041 - val_loss: 2.2767 - val_precision_30: 0.7045 - val_recall_30: 0.7041\n",
      "Epoch 13/20\n",
      "\u001b[1m476/476\u001b[0m \u001b[32m━━━━━━━━━━━━━━━━━━━━\u001b[0m\u001b[37m\u001b[0m \u001b[1m2s\u001b[0m 5ms/step - accuracy: 0.9984 - loss: 0.0051 - precision_30: 0.9984 - recall_30: 0.9983 - val_accuracy: 0.6773 - val_loss: 2.0305 - val_precision_30: 0.6781 - val_recall_30: 0.6760\n",
      "Epoch 14/20\n",
      "\u001b[1m476/476\u001b[0m \u001b[32m━━━━━━━━━━━━━━━━━━━━\u001b[0m\u001b[37m\u001b[0m \u001b[1m2s\u001b[0m 5ms/step - accuracy: 0.9988 - loss: 0.0034 - precision_30: 0.9988 - recall_30: 0.9988 - val_accuracy: 0.6875 - val_loss: 2.2955 - val_precision_30: 0.6877 - val_recall_30: 0.6865\n",
      "Epoch 15/20\n",
      "\u001b[1m476/476\u001b[0m \u001b[32m━━━━━━━━━━━━━━━━━━━━\u001b[0m\u001b[37m\u001b[0m \u001b[1m2s\u001b[0m 5ms/step - accuracy: 0.9992 - loss: 0.0020 - precision_30: 0.9992 - recall_30: 0.9992 - val_accuracy: 0.6912 - val_loss: 2.1233 - val_precision_30: 0.6920 - val_recall_30: 0.6910\n",
      "Epoch 16/20\n",
      "\u001b[1m476/476\u001b[0m \u001b[32m━━━━━━━━━━━━━━━━━━━━\u001b[0m\u001b[37m\u001b[0m \u001b[1m2s\u001b[0m 5ms/step - accuracy: 0.9981 - loss: 0.0082 - precision_30: 0.9981 - recall_30: 0.9979 - val_accuracy: 0.6536 - val_loss: 1.9940 - val_precision_30: 0.6564 - val_recall_30: 0.6497\n",
      "Epoch 17/20\n",
      "\u001b[1m476/476\u001b[0m \u001b[32m━━━━━━━━━━━━━━━━━━━━\u001b[0m\u001b[37m\u001b[0m \u001b[1m2s\u001b[0m 5ms/step - accuracy: 0.9985 - loss: 0.0056 - precision_30: 0.9985 - recall_30: 0.9985 - val_accuracy: 0.6720 - val_loss: 1.9581 - val_precision_30: 0.6726 - val_recall_30: 0.6689\n",
      "Epoch 18/20\n",
      "\u001b[1m476/476\u001b[0m \u001b[32m━━━━━━━━━━━━━━━━━━━━\u001b[0m\u001b[37m\u001b[0m \u001b[1m2s\u001b[0m 5ms/step - accuracy: 0.9989 - loss: 0.0037 - precision_30: 0.9989 - recall_30: 0.9989 - val_accuracy: 0.6836 - val_loss: 2.3079 - val_precision_30: 0.6843 - val_recall_30: 0.6831\n",
      "Epoch 19/20\n",
      "\u001b[1m476/476\u001b[0m \u001b[32m━━━━━━━━━━━━━━━━━━━━\u001b[0m\u001b[37m\u001b[0m \u001b[1m2s\u001b[0m 5ms/step - accuracy: 0.9989 - loss: 0.0021 - precision_30: 0.9989 - recall_30: 0.9987 - val_accuracy: 0.6844 - val_loss: 2.4773 - val_precision_30: 0.6846 - val_recall_30: 0.6839\n",
      "Epoch 20/20\n",
      "\u001b[1m476/476\u001b[0m \u001b[32m━━━━━━━━━━━━━━━━━━━━\u001b[0m\u001b[37m\u001b[0m \u001b[1m3s\u001b[0m 5ms/step - accuracy: 0.9985 - loss: 0.0051 - precision_30: 0.9985 - recall_30: 0.9985 - val_accuracy: 0.6970 - val_loss: 2.4289 - val_precision_30: 0.6971 - val_recall_30: 0.6967\n"
     ]
    },
    {
     "data": {
      "text/plain": [
       "<keras.src.callbacks.history.History at 0x3b7612ea0>"
      ]
     },
     "execution_count": 736,
     "metadata": {},
     "output_type": "execute_result"
    }
   ],
   "source": [
    "\n",
    "\n",
    "# Define the enhanced RNN model\n",
    "rnn_model = Sequential([\n",
    "    Embedding(input_dim=len(tokenizer.word_index) + 1, output_dim=64, input_length=X.shape[1]),  # Increase embedding dimensions\n",
    "    SimpleRNN(128, return_sequences=True),  # Increase the number of units and return sequences\n",
    "    Dropout(0.5),  # Add dropout for regularization\n",
    "    SimpleRNN(64),  # Another RNN layer for increased capacity\n",
    "    Dense(64, activation='relu'),  # Add a dense layer\n",
    "    Dense(y.shape[1], activation='softmax')  # Output layer\n",
    "])\n",
    "\n",
    "# Compile the RNN model\n",
    "\n",
    "rnn_model.compile(\n",
    "    optimizer=Adam(),\n",
    "    loss=categorical_crossentropy,\n",
    "    metrics=['accuracy', Precision(), Recall()]\n",
    ")\n",
    "\n",
    "\n",
    "# Train the RNN model\n",
    "rnn_model.fit(X_train, y_train, batch_size=32, epochs=20, validation_data=(X_test, y_test))"
   ]
  },
  {
   "cell_type": "code",
   "execution_count": 738,
   "id": "1315fa3e-2126-475a-bb95-1cb3e72a4760",
   "metadata": {},
   "outputs": [],
   "source": [
    "from tensorflow.keras.layers import Embedding, GRU, Dropout, Dense, Bidirectional\n",
    "from tensorflow.keras.optimizers import Adam"
   ]
  },
  {
   "cell_type": "code",
   "execution_count": 740,
   "id": "094700a8-669a-413b-8b8e-8b04fa758686",
   "metadata": {},
   "outputs": [
    {
     "name": "stdout",
     "output_type": "stream",
     "text": [
      "Epoch 1/20\n"
     ]
    },
    {
     "name": "stderr",
     "output_type": "stream",
     "text": [
      "/opt/anaconda3/lib/python3.12/site-packages/keras/src/layers/core/embedding.py:90: UserWarning: Argument `input_length` is deprecated. Just remove it.\n",
      "  warnings.warn(\n"
     ]
    },
    {
     "name": "stdout",
     "output_type": "stream",
     "text": [
      "\u001b[1m476/476\u001b[0m \u001b[32m━━━━━━━━━━━━━━━━━━━━\u001b[0m\u001b[37m\u001b[0m \u001b[1m2s\u001b[0m 3ms/step - accuracy: 0.7067 - loss: 0.8363 - val_accuracy: 0.7083 - val_loss: 0.8062\n",
      "Epoch 2/20\n",
      "\u001b[1m476/476\u001b[0m \u001b[32m━━━━━━━━━━━━━━━━━━━━\u001b[0m\u001b[37m\u001b[0m \u001b[1m1s\u001b[0m 2ms/step - accuracy: 0.7288 - loss: 0.6732 - val_accuracy: 0.6213 - val_loss: 0.9849\n",
      "Epoch 3/20\n",
      "\u001b[1m476/476\u001b[0m \u001b[32m━━━━━━━━━━━━━━━━━━━━\u001b[0m\u001b[37m\u001b[0m \u001b[1m1s\u001b[0m 3ms/step - accuracy: 0.9830 - loss: 0.0917 - val_accuracy: 0.6846 - val_loss: 1.0058\n",
      "Epoch 4/20\n",
      "\u001b[1m476/476\u001b[0m \u001b[32m━━━━━━━━━━━━━━━━━━━━\u001b[0m\u001b[37m\u001b[0m \u001b[1m1s\u001b[0m 3ms/step - accuracy: 0.9874 - loss: 0.0312 - val_accuracy: 0.6894 - val_loss: 1.0453\n",
      "Epoch 5/20\n",
      "\u001b[1m476/476\u001b[0m \u001b[32m━━━━━━━━━━━━━━━━━━━━\u001b[0m\u001b[37m\u001b[0m \u001b[1m1s\u001b[0m 2ms/step - accuracy: 0.9903 - loss: 0.0225 - val_accuracy: 0.6978 - val_loss: 1.1748\n",
      "Epoch 6/20\n",
      "\u001b[1m476/476\u001b[0m \u001b[32m━━━━━━━━━━━━━━━━━━━━\u001b[0m\u001b[37m\u001b[0m \u001b[1m1s\u001b[0m 2ms/step - accuracy: 0.9943 - loss: 0.0150 - val_accuracy: 0.6904 - val_loss: 1.2091\n",
      "Epoch 7/20\n",
      "\u001b[1m476/476\u001b[0m \u001b[32m━━━━━━━━━━━━━━━━━━━━\u001b[0m\u001b[37m\u001b[0m \u001b[1m1s\u001b[0m 2ms/step - accuracy: 0.9953 - loss: 0.0118 - val_accuracy: 0.6541 - val_loss: 1.2234\n",
      "Epoch 8/20\n",
      "\u001b[1m476/476\u001b[0m \u001b[32m━━━━━━━━━━━━━━━━━━━━\u001b[0m\u001b[37m\u001b[0m \u001b[1m1s\u001b[0m 3ms/step - accuracy: 0.9966 - loss: 0.0090 - val_accuracy: 0.6804 - val_loss: 1.2406\n",
      "Epoch 9/20\n",
      "\u001b[1m476/476\u001b[0m \u001b[32m━━━━━━━━━━━━━━━━━━━━\u001b[0m\u001b[37m\u001b[0m \u001b[1m1s\u001b[0m 2ms/step - accuracy: 0.9981 - loss: 0.0061 - val_accuracy: 0.6933 - val_loss: 1.3560\n",
      "Epoch 10/20\n",
      "\u001b[1m476/476\u001b[0m \u001b[32m━━━━━━━━━━━━━━━━━━━━\u001b[0m\u001b[37m\u001b[0m \u001b[1m1s\u001b[0m 2ms/step - accuracy: 0.9982 - loss: 0.0058 - val_accuracy: 0.6844 - val_loss: 1.3849\n",
      "Epoch 11/20\n",
      "\u001b[1m476/476\u001b[0m \u001b[32m━━━━━━━━━━━━━━━━━━━━\u001b[0m\u001b[37m\u001b[0m \u001b[1m1s\u001b[0m 2ms/step - accuracy: 0.9983 - loss: 0.0044 - val_accuracy: 0.6891 - val_loss: 1.5064\n",
      "Epoch 12/20\n",
      "\u001b[1m476/476\u001b[0m \u001b[32m━━━━━━━━━━━━━━━━━━━━\u001b[0m\u001b[37m\u001b[0m \u001b[1m1s\u001b[0m 2ms/step - accuracy: 0.9990 - loss: 0.0034 - val_accuracy: 0.6804 - val_loss: 1.4647\n",
      "Epoch 13/20\n",
      "\u001b[1m476/476\u001b[0m \u001b[32m━━━━━━━━━━━━━━━━━━━━\u001b[0m\u001b[37m\u001b[0m \u001b[1m1s\u001b[0m 3ms/step - accuracy: 0.9984 - loss: 0.0047 - val_accuracy: 0.6928 - val_loss: 1.7061\n",
      "Epoch 14/20\n",
      "\u001b[1m476/476\u001b[0m \u001b[32m━━━━━━━━━━━━━━━━━━━━\u001b[0m\u001b[37m\u001b[0m \u001b[1m1s\u001b[0m 3ms/step - accuracy: 0.9991 - loss: 0.0031 - val_accuracy: 0.6912 - val_loss: 1.6517\n",
      "Epoch 15/20\n",
      "\u001b[1m476/476\u001b[0m \u001b[32m━━━━━━━━━━━━━━━━━━━━\u001b[0m\u001b[37m\u001b[0m \u001b[1m1s\u001b[0m 3ms/step - accuracy: 0.9988 - loss: 0.0029 - val_accuracy: 0.6823 - val_loss: 1.5450\n",
      "Epoch 16/20\n",
      "\u001b[1m476/476\u001b[0m \u001b[32m━━━━━━━━━━━━━━━━━━━━\u001b[0m\u001b[37m\u001b[0m \u001b[1m1s\u001b[0m 3ms/step - accuracy: 0.9997 - loss: 0.0013 - val_accuracy: 0.6860 - val_loss: 1.6362\n",
      "Epoch 17/20\n",
      "\u001b[1m476/476\u001b[0m \u001b[32m━━━━━━━━━━━━━━━━━━━━\u001b[0m\u001b[37m\u001b[0m \u001b[1m1s\u001b[0m 3ms/step - accuracy: 0.9993 - loss: 0.0022 - val_accuracy: 0.6933 - val_loss: 2.2779\n",
      "Epoch 18/20\n",
      "\u001b[1m476/476\u001b[0m \u001b[32m━━━━━━━━━━━━━━━━━━━━\u001b[0m\u001b[37m\u001b[0m \u001b[1m1s\u001b[0m 3ms/step - accuracy: 0.9988 - loss: 0.0034 - val_accuracy: 0.6886 - val_loss: 1.9004\n",
      "Epoch 19/20\n",
      "\u001b[1m476/476\u001b[0m \u001b[32m━━━━━━━━━━━━━━━━━━━━\u001b[0m\u001b[37m\u001b[0m \u001b[1m1s\u001b[0m 3ms/step - accuracy: 0.9994 - loss: 0.0021 - val_accuracy: 0.6841 - val_loss: 1.8000\n",
      "Epoch 20/20\n",
      "\u001b[1m476/476\u001b[0m \u001b[32m━━━━━━━━━━━━━━━━━━━━\u001b[0m\u001b[37m\u001b[0m \u001b[1m1s\u001b[0m 3ms/step - accuracy: 0.9995 - loss: 0.0015 - val_accuracy: 0.6831 - val_loss: 1.6140\n"
     ]
    },
    {
     "data": {
      "text/plain": [
       "<keras.src.callbacks.history.History at 0x3b4b150a0>"
      ]
     },
     "execution_count": 740,
     "metadata": {},
     "output_type": "execute_result"
    }
   ],
   "source": [
    "# Define the very simple GRU model\n",
    "gru_model = Sequential([\n",
    "    Embedding(input_dim=len(tokenizer.word_index) + 1, output_dim=32, input_length=X.shape[1]),  # Minimal embedding dimensions\n",
    "    GRU(32),  # Single GRU layer with 32 units\n",
    "    Dense(y.shape[1], activation='softmax')  # Output layer with softmax activation\n",
    "])\n",
    "\n",
    "# Compile the very simple GRU model\n",
    "gru_model.compile(\n",
    "    optimizer=Adam(),  # Default learning rate\n",
    "    loss=categorical_crossentropy,\n",
    "    metrics=['accuracy']\n",
    ")\n",
    "\n",
    "# Train the very simple GRU model\n",
    "gru_model.fit(X_train, y_train, batch_size=32, epochs=20, validation_data=(X_test, y_test))"
   ]
  },
  {
   "cell_type": "code",
   "execution_count": 742,
   "id": "2a3dbe3d-6b68-490e-bf3f-54484ec46734",
   "metadata": {},
   "outputs": [
    {
     "name": "stdout",
     "output_type": "stream",
     "text": [
      "Epoch 1/40\n"
     ]
    },
    {
     "name": "stderr",
     "output_type": "stream",
     "text": [
      "/opt/anaconda3/lib/python3.12/site-packages/keras/src/layers/core/embedding.py:90: UserWarning: Argument `input_length` is deprecated. Just remove it.\n",
      "  warnings.warn(\n"
     ]
    },
    {
     "name": "stdout",
     "output_type": "stream",
     "text": [
      "\u001b[1m476/476\u001b[0m \u001b[32m━━━━━━━━━━━━━━━━━━━━\u001b[0m\u001b[37m\u001b[0m \u001b[1m2s\u001b[0m 3ms/step - accuracy: 0.7061 - loss: 0.8397 - precision_31: 0.6869 - recall_31: 0.6168 - val_accuracy: 0.7083 - val_loss: 0.8083 - val_precision_31: 0.7083 - val_recall_31: 0.7083\n",
      "Epoch 2/40\n",
      "\u001b[1m476/476\u001b[0m \u001b[32m━━━━━━━━━━━━━━━━━━━━\u001b[0m\u001b[37m\u001b[0m \u001b[1m1s\u001b[0m 3ms/step - accuracy: 0.7160 - loss: 0.7283 - precision_31: 0.7283 - recall_31: 0.7040 - val_accuracy: 0.6291 - val_loss: 0.9865 - val_precision_31: 0.6915 - val_recall_31: 0.4900\n",
      "Epoch 3/40\n",
      "\u001b[1m476/476\u001b[0m \u001b[32m━━━━━━━━━━━━━━━━━━━━\u001b[0m\u001b[37m\u001b[0m \u001b[1m1s\u001b[0m 3ms/step - accuracy: 0.9078 - loss: 0.2095 - precision_31: 0.9154 - recall_31: 0.8998 - val_accuracy: 0.5345 - val_loss: 1.0473 - val_precision_31: 0.6267 - val_recall_31: 0.3714\n",
      "Epoch 4/40\n",
      "\u001b[1m476/476\u001b[0m \u001b[32m━━━━━━━━━━━━━━━━━━━━\u001b[0m\u001b[37m\u001b[0m \u001b[1m1s\u001b[0m 3ms/step - accuracy: 0.9864 - loss: 0.0633 - precision_31: 0.9884 - recall_31: 0.9841 - val_accuracy: 0.6894 - val_loss: 1.0567 - val_precision_31: 0.6949 - val_recall_31: 0.6733\n",
      "Epoch 5/40\n",
      "\u001b[1m476/476\u001b[0m \u001b[32m━━━━━━━━━━━━━━━━━━━━\u001b[0m\u001b[37m\u001b[0m \u001b[1m1s\u001b[0m 3ms/step - accuracy: 0.9903 - loss: 0.0238 - precision_31: 0.9914 - recall_31: 0.9901 - val_accuracy: 0.5810 - val_loss: 1.0980 - val_precision_31: 0.6039 - val_recall_31: 0.5045\n",
      "Epoch 6/40\n",
      "\u001b[1m476/476\u001b[0m \u001b[32m━━━━━━━━━━━━━━━━━━━━\u001b[0m\u001b[37m\u001b[0m \u001b[1m1s\u001b[0m 3ms/step - accuracy: 0.9936 - loss: 0.0179 - precision_31: 0.9947 - recall_31: 0.9934 - val_accuracy: 0.6741 - val_loss: 1.2099 - val_precision_31: 0.6792 - val_recall_31: 0.6665\n",
      "Epoch 7/40\n",
      "\u001b[1m476/476\u001b[0m \u001b[32m━━━━━━━━━━━━━━━━━━━━\u001b[0m\u001b[37m\u001b[0m \u001b[1m1s\u001b[0m 3ms/step - accuracy: 0.9949 - loss: 0.0122 - precision_31: 0.9953 - recall_31: 0.9944 - val_accuracy: 0.5986 - val_loss: 1.3465 - val_precision_31: 0.6083 - val_recall_31: 0.5878\n",
      "Epoch 8/40\n",
      "\u001b[1m476/476\u001b[0m \u001b[32m━━━━━━━━━━━━━━━━━━━━\u001b[0m\u001b[37m\u001b[0m \u001b[1m1s\u001b[0m 3ms/step - accuracy: 0.9967 - loss: 0.0081 - precision_31: 0.9970 - recall_31: 0.9958 - val_accuracy: 0.6460 - val_loss: 1.1339 - val_precision_31: 0.6595 - val_recall_31: 0.6215\n",
      "Epoch 9/40\n",
      "\u001b[1m476/476\u001b[0m \u001b[32m━━━━━━━━━━━━━━━━━━━━\u001b[0m\u001b[37m\u001b[0m \u001b[1m1s\u001b[0m 3ms/step - accuracy: 0.9974 - loss: 0.0075 - precision_31: 0.9976 - recall_31: 0.9972 - val_accuracy: 0.6946 - val_loss: 1.6163 - val_precision_31: 0.6951 - val_recall_31: 0.6933\n",
      "Epoch 10/40\n",
      "\u001b[1m476/476\u001b[0m \u001b[32m━━━━━━━━━━━━━━━━━━━━\u001b[0m\u001b[37m\u001b[0m \u001b[1m1s\u001b[0m 3ms/step - accuracy: 0.9970 - loss: 0.0074 - precision_31: 0.9974 - recall_31: 0.9970 - val_accuracy: 0.6468 - val_loss: 1.2780 - val_precision_31: 0.6541 - val_recall_31: 0.6352\n",
      "Epoch 11/40\n",
      "\u001b[1m476/476\u001b[0m \u001b[32m━━━━━━━━━━━━━━━━━━━━\u001b[0m\u001b[37m\u001b[0m \u001b[1m1s\u001b[0m 3ms/step - accuracy: 0.9984 - loss: 0.0046 - precision_31: 0.9985 - recall_31: 0.9982 - val_accuracy: 0.4687 - val_loss: 1.2602 - val_precision_31: 0.4921 - val_recall_31: 0.3845\n",
      "Epoch 12/40\n",
      "\u001b[1m476/476\u001b[0m \u001b[32m━━━━━━━━━━━━━━━━━━━━\u001b[0m\u001b[37m\u001b[0m \u001b[1m1s\u001b[0m 3ms/step - accuracy: 0.9980 - loss: 0.0049 - precision_31: 0.9981 - recall_31: 0.9979 - val_accuracy: 0.5187 - val_loss: 1.2924 - val_precision_31: 0.5315 - val_recall_31: 0.4571\n",
      "Epoch 13/40\n",
      "\u001b[1m476/476\u001b[0m \u001b[32m━━━━━━━━━━━━━━━━━━━━\u001b[0m\u001b[37m\u001b[0m \u001b[1m1s\u001b[0m 3ms/step - accuracy: 0.9985 - loss: 0.0040 - precision_31: 0.9989 - recall_31: 0.9984 - val_accuracy: 0.6710 - val_loss: 1.3791 - val_precision_31: 0.6756 - val_recall_31: 0.6644\n",
      "Epoch 14/40\n",
      "\u001b[1m476/476\u001b[0m \u001b[32m━━━━━━━━━━━━━━━━━━━━\u001b[0m\u001b[37m\u001b[0m \u001b[1m1s\u001b[0m 3ms/step - accuracy: 0.9988 - loss: 0.0030 - precision_31: 0.9988 - recall_31: 0.9988 - val_accuracy: 0.6867 - val_loss: 1.8655 - val_precision_31: 0.6875 - val_recall_31: 0.6839\n",
      "Epoch 15/40\n",
      "\u001b[1m476/476\u001b[0m \u001b[32m━━━━━━━━━━━━━━━━━━━━\u001b[0m\u001b[37m\u001b[0m \u001b[1m1s\u001b[0m 3ms/step - accuracy: 0.9990 - loss: 0.0035 - precision_31: 0.9990 - recall_31: 0.9990 - val_accuracy: 0.5952 - val_loss: 1.2469 - val_precision_31: 0.6120 - val_recall_31: 0.5605\n",
      "Epoch 16/40\n",
      "\u001b[1m476/476\u001b[0m \u001b[32m━━━━━━━━━━━━━━━━━━━━\u001b[0m\u001b[37m\u001b[0m \u001b[1m1s\u001b[0m 3ms/step - accuracy: 0.9992 - loss: 0.0028 - precision_31: 0.9993 - recall_31: 0.9992 - val_accuracy: 0.6836 - val_loss: 1.4215 - val_precision_31: 0.6857 - val_recall_31: 0.6807\n",
      "Epoch 17/40\n",
      "\u001b[1m476/476\u001b[0m \u001b[32m━━━━━━━━━━━━━━━━━━━━\u001b[0m\u001b[37m\u001b[0m \u001b[1m1s\u001b[0m 3ms/step - accuracy: 0.9990 - loss: 0.0028 - precision_31: 0.9991 - recall_31: 0.9990 - val_accuracy: 0.6047 - val_loss: 1.2318 - val_precision_31: 0.6209 - val_recall_31: 0.5571\n",
      "Epoch 18/40\n",
      "\u001b[1m476/476\u001b[0m \u001b[32m━━━━━━━━━━━━━━━━━━━━\u001b[0m\u001b[37m\u001b[0m \u001b[1m2s\u001b[0m 3ms/step - accuracy: 0.9989 - loss: 0.0031 - precision_31: 0.9989 - recall_31: 0.9989 - val_accuracy: 0.6594 - val_loss: 1.4555 - val_precision_31: 0.6629 - val_recall_31: 0.6568\n",
      "Epoch 19/40\n",
      "\u001b[1m476/476\u001b[0m \u001b[32m━━━━━━━━━━━━━━━━━━━━\u001b[0m\u001b[37m\u001b[0m \u001b[1m1s\u001b[0m 3ms/step - accuracy: 0.9989 - loss: 0.0032 - precision_31: 0.9989 - recall_31: 0.9989 - val_accuracy: 0.6831 - val_loss: 1.5370 - val_precision_31: 0.6843 - val_recall_31: 0.6817\n",
      "Epoch 20/40\n",
      "\u001b[1m476/476\u001b[0m \u001b[32m━━━━━━━━━━━━━━━━━━━━\u001b[0m\u001b[37m\u001b[0m \u001b[1m1s\u001b[0m 3ms/step - accuracy: 0.9992 - loss: 0.0020 - precision_31: 0.9992 - recall_31: 0.9992 - val_accuracy: 0.6870 - val_loss: 2.0345 - val_precision_31: 0.6872 - val_recall_31: 0.6841\n",
      "Epoch 21/40\n",
      "\u001b[1m476/476\u001b[0m \u001b[32m━━━━━━━━━━━━━━━━━━━━\u001b[0m\u001b[37m\u001b[0m \u001b[1m1s\u001b[0m 3ms/step - accuracy: 0.9989 - loss: 0.0032 - precision_31: 0.9989 - recall_31: 0.9989 - val_accuracy: 0.6670 - val_loss: 1.3740 - val_precision_31: 0.6717 - val_recall_31: 0.6604\n",
      "Epoch 22/40\n",
      "\u001b[1m476/476\u001b[0m \u001b[32m━━━━━━━━━━━━━━━━━━━━\u001b[0m\u001b[37m\u001b[0m \u001b[1m1s\u001b[0m 3ms/step - accuracy: 0.9994 - loss: 0.0018 - precision_31: 0.9995 - recall_31: 0.9994 - val_accuracy: 0.6689 - val_loss: 1.3195 - val_precision_31: 0.6721 - val_recall_31: 0.6615\n",
      "Epoch 23/40\n",
      "\u001b[1m476/476\u001b[0m \u001b[32m━━━━━━━━━━━━━━━━━━━━\u001b[0m\u001b[37m\u001b[0m \u001b[1m1s\u001b[0m 3ms/step - accuracy: 0.9991 - loss: 0.0021 - precision_31: 0.9992 - recall_31: 0.9991 - val_accuracy: 0.6896 - val_loss: 2.1020 - val_precision_31: 0.6898 - val_recall_31: 0.6883\n",
      "Epoch 24/40\n",
      "\u001b[1m476/476\u001b[0m \u001b[32m━━━━━━━━━━━━━━━━━━━━\u001b[0m\u001b[37m\u001b[0m \u001b[1m1s\u001b[0m 3ms/step - accuracy: 0.9996 - loss: 0.0013 - precision_31: 0.9996 - recall_31: 0.9996 - val_accuracy: 0.6781 - val_loss: 1.9738 - val_precision_31: 0.6784 - val_recall_31: 0.6781\n",
      "Epoch 25/40\n",
      "\u001b[1m476/476\u001b[0m \u001b[32m━━━━━━━━━━━━━━━━━━━━\u001b[0m\u001b[37m\u001b[0m \u001b[1m1s\u001b[0m 3ms/step - accuracy: 0.9991 - loss: 0.0020 - precision_31: 0.9991 - recall_31: 0.9991 - val_accuracy: 0.6873 - val_loss: 1.4352 - val_precision_31: 0.6892 - val_recall_31: 0.6854\n",
      "Epoch 26/40\n",
      "\u001b[1m476/476\u001b[0m \u001b[32m━━━━━━━━━━━━━━━━━━━━\u001b[0m\u001b[37m\u001b[0m \u001b[1m1s\u001b[0m 3ms/step - accuracy: 0.9993 - loss: 0.0013 - precision_31: 0.9993 - recall_31: 0.9993 - val_accuracy: 0.6586 - val_loss: 1.2461 - val_precision_31: 0.6688 - val_recall_31: 0.6389\n",
      "Epoch 27/40\n",
      "\u001b[1m476/476\u001b[0m \u001b[32m━━━━━━━━━━━━━━━━━━━━\u001b[0m\u001b[37m\u001b[0m \u001b[1m1s\u001b[0m 3ms/step - accuracy: 0.9993 - loss: 0.0016 - precision_31: 0.9995 - recall_31: 0.9993 - val_accuracy: 0.6812 - val_loss: 1.7165 - val_precision_31: 0.6819 - val_recall_31: 0.6794\n",
      "Epoch 28/40\n",
      "\u001b[1m476/476\u001b[0m \u001b[32m━━━━━━━━━━━━━━━━━━━━\u001b[0m\u001b[37m\u001b[0m \u001b[1m1s\u001b[0m 3ms/step - accuracy: 0.9997 - loss: 8.0114e-04 - precision_31: 0.9997 - recall_31: 0.9997 - val_accuracy: 0.6723 - val_loss: 1.3204 - val_precision_31: 0.6760 - val_recall_31: 0.6639\n",
      "Epoch 29/40\n",
      "\u001b[1m476/476\u001b[0m \u001b[32m━━━━━━━━━━━━━━━━━━━━\u001b[0m\u001b[37m\u001b[0m \u001b[1m1s\u001b[0m 3ms/step - accuracy: 0.9996 - loss: 0.0011 - precision_31: 0.9996 - recall_31: 0.9996 - val_accuracy: 0.6265 - val_loss: 1.3077 - val_precision_31: 0.6383 - val_recall_31: 0.6063\n",
      "Epoch 30/40\n",
      "\u001b[1m476/476\u001b[0m \u001b[32m━━━━━━━━━━━━━━━━━━━━\u001b[0m\u001b[37m\u001b[0m \u001b[1m1s\u001b[0m 3ms/step - accuracy: 0.9998 - loss: 9.7531e-04 - precision_31: 0.9998 - recall_31: 0.9998 - val_accuracy: 0.6865 - val_loss: 1.5925 - val_precision_31: 0.6879 - val_recall_31: 0.6852\n",
      "Epoch 31/40\n",
      "\u001b[1m476/476\u001b[0m \u001b[32m━━━━━━━━━━━━━━━━━━━━\u001b[0m\u001b[37m\u001b[0m \u001b[1m1s\u001b[0m 3ms/step - accuracy: 0.9995 - loss: 0.0013 - precision_31: 0.9995 - recall_31: 0.9995 - val_accuracy: 0.6807 - val_loss: 1.7992 - val_precision_31: 0.6816 - val_recall_31: 0.6796\n",
      "Epoch 32/40\n",
      "\u001b[1m476/476\u001b[0m \u001b[32m━━━━━━━━━━━━━━━━━━━━\u001b[0m\u001b[37m\u001b[0m \u001b[1m1s\u001b[0m 3ms/step - accuracy: 0.9996 - loss: 0.0013 - precision_31: 0.9996 - recall_31: 0.9994 - val_accuracy: 0.6562 - val_loss: 1.3012 - val_precision_31: 0.6664 - val_recall_31: 0.6373\n",
      "Epoch 33/40\n",
      "\u001b[1m476/476\u001b[0m \u001b[32m━━━━━━━━━━━━━━━━━━━━\u001b[0m\u001b[37m\u001b[0m \u001b[1m1s\u001b[0m 3ms/step - accuracy: 0.9997 - loss: 9.5916e-04 - precision_31: 0.9998 - recall_31: 0.9997 - val_accuracy: 0.6807 - val_loss: 1.6694 - val_precision_31: 0.6816 - val_recall_31: 0.6796\n",
      "Epoch 34/40\n",
      "\u001b[1m476/476\u001b[0m \u001b[32m━━━━━━━━━━━━━━━━━━━━\u001b[0m\u001b[37m\u001b[0m \u001b[1m1s\u001b[0m 3ms/step - accuracy: 0.9999 - loss: 4.9637e-04 - precision_31: 0.9999 - recall_31: 0.9999 - val_accuracy: 0.6852 - val_loss: 1.8267 - val_precision_31: 0.6860 - val_recall_31: 0.6844\n",
      "Epoch 35/40\n",
      "\u001b[1m476/476\u001b[0m \u001b[32m━━━━━━━━━━━━━━━━━━━━\u001b[0m\u001b[37m\u001b[0m \u001b[1m1s\u001b[0m 3ms/step - accuracy: 0.9993 - loss: 0.0019 - precision_31: 0.9993 - recall_31: 0.9993 - val_accuracy: 0.6817 - val_loss: 1.4977 - val_precision_31: 0.6828 - val_recall_31: 0.6804\n",
      "Epoch 36/40\n",
      "\u001b[1m476/476\u001b[0m \u001b[32m━━━━━━━━━━━━━━━━━━━━\u001b[0m\u001b[37m\u001b[0m \u001b[1m2s\u001b[0m 3ms/step - accuracy: 0.9999 - loss: 5.0798e-04 - precision_31: 0.9999 - recall_31: 0.9999 - val_accuracy: 0.4903 - val_loss: 1.6701 - val_precision_31: 0.4921 - val_recall_31: 0.4824\n",
      "Epoch 37/40\n",
      "\u001b[1m476/476\u001b[0m \u001b[32m━━━━━━━━━━━━━━━━━━━━\u001b[0m\u001b[37m\u001b[0m \u001b[1m1s\u001b[0m 3ms/step - accuracy: 0.9996 - loss: 8.4497e-04 - precision_31: 0.9996 - recall_31: 0.9996 - val_accuracy: 0.6820 - val_loss: 1.4569 - val_precision_31: 0.6827 - val_recall_31: 0.6815\n",
      "Epoch 38/40\n",
      "\u001b[1m476/476\u001b[0m \u001b[32m━━━━━━━━━━━━━━━━━━━━\u001b[0m\u001b[37m\u001b[0m \u001b[1m1s\u001b[0m 3ms/step - accuracy: 1.0000 - loss: 2.1693e-04 - precision_31: 1.0000 - recall_31: 0.9999 - val_accuracy: 0.6852 - val_loss: 1.8194 - val_precision_31: 0.6862 - val_recall_31: 0.6849\n",
      "Epoch 39/40\n",
      "\u001b[1m476/476\u001b[0m \u001b[32m━━━━━━━━━━━━━━━━━━━━\u001b[0m\u001b[37m\u001b[0m \u001b[1m1s\u001b[0m 3ms/step - accuracy: 0.9999 - loss: 3.0541e-04 - precision_31: 0.9999 - recall_31: 0.9999 - val_accuracy: 0.6846 - val_loss: 1.5062 - val_precision_31: 0.6845 - val_recall_31: 0.6836\n",
      "Epoch 40/40\n",
      "\u001b[1m476/476\u001b[0m \u001b[32m━━━━━━━━━━━━━━━━━━━━\u001b[0m\u001b[37m\u001b[0m \u001b[1m2s\u001b[0m 3ms/step - accuracy: 1.0000 - loss: 2.3449e-04 - precision_31: 1.0000 - recall_31: 1.0000 - val_accuracy: 0.6860 - val_loss: 1.9350 - val_precision_31: 0.6863 - val_recall_31: 0.6854\n"
     ]
    },
    {
     "data": {
      "text/plain": [
       "<keras.src.callbacks.history.History at 0x3a5499970>"
      ]
     },
     "execution_count": 742,
     "metadata": {},
     "output_type": "execute_result"
    }
   ],
   "source": [
    "\n",
    "\n",
    "# Define the  LSTM model\n",
    "lstm_model = Sequential([\n",
    "    Embedding(input_dim=len(tokenizer.word_index) + 1, output_dim=32, input_length=X.shape[1]),  # Reduced embedding dimensions\n",
    "    LSTM(64),  # Fewer LSTM units\n",
    "    Dense(y.shape[1], activation='softmax')  # Output layer\n",
    "])\n",
    "\n",
    "# Compile the simpler LSTM model\n",
    "lstm_model.compile(\n",
    "    optimizer=Adam(),\n",
    "    loss=categorical_crossentropy,\n",
    "    metrics=['accuracy', Precision(), Recall()]\n",
    ")\n",
    "\n",
    "# Train the simpler LSTM model\n",
    "lstm_model.fit(X_train, y_train, batch_size=32, epochs=40, validation_data=(X_test, y_test))\n"
   ]
  },
  {
   "cell_type": "code",
   "execution_count": 744,
   "id": "994a1ab6-8d36-4e96-b5b7-12fd7d4c823e",
   "metadata": {},
   "outputs": [
    {
     "name": "stdout",
     "output_type": "stream",
     "text": [
      "\u001b[1m119/119\u001b[0m \u001b[32m━━━━━━━━━━━━━━━━━━━━\u001b[0m\u001b[37m\u001b[0m \u001b[1m0s\u001b[0m 677us/step - accuracy: 0.6958 - loss: 2.4037 - precision_30: 0.6960 - recall_30: 0.6956\n",
      "RNN Test Loss: 2.4289, Test Accuracy: 0.6970\n",
      "\u001b[1m119/119\u001b[0m \u001b[32m━━━━━━━━━━━━━━━━━━━━\u001b[0m\u001b[37m\u001b[0m \u001b[1m0s\u001b[0m 384us/step - accuracy: 0.6791 - loss: 1.6323\n",
      "GRU Test Loss: 1.6140, Test Accuracy: 0.6781\n",
      "\u001b[1m119/119\u001b[0m \u001b[32m━━━━━━━━━━━━━━━━━━━━\u001b[0m\u001b[37m\u001b[0m \u001b[1m0s\u001b[0m 535us/step - accuracy: 0.6870 - loss: 1.9751 - precision_31: 0.6872 - recall_31: 0.6861\n",
      "Simple LSTM Test Loss: 1.9350, Test Accuracy: 0.6860\n"
     ]
    }
   ],
   "source": [
    "# Evaluate RNN model\n",
    "rnn_evaluation = rnn_model.evaluate(X_test, y_test)\n",
    "rnn_loss = rnn_evaluation[0]\n",
    "rnn_accuracy = rnn_evaluation[1]\n",
    "print(f\"RNN Test Loss: {rnn_loss:.4f}, Test Accuracy: {rnn_accuracy:.4f}\")\n",
    "\n",
    "# Evaluate GRU model\n",
    "gru_evaluation =gru_model.evaluate(X_test, y_test)\n",
    "gru_loss = gru_evaluation[0]\n",
    "gru_accuracy =minimal_gru_evaluation[1]\n",
    "print(f\"GRU Test Loss: {gru_loss:.4f}, Test Accuracy: {gru_accuracy:.4f}\")\n",
    "\n",
    "\n",
    "\n",
    "\n",
    "# LSTM model\n",
    "lstm_evaluation = lstm_model.evaluate(X_test, y_test)\n",
    "lstm_loss = lstm_evaluation[0]\n",
    "lstm_accuracy = lstm_evaluation[1]\n",
    "print(f\"Simple LSTM Test Loss: {lstm_loss:.4f}, Test Accuracy: {simple_lstm_accuracy:.4f}\")\n",
    "\n",
    "\n",
    "\n",
    "# Predict sentiment for new sentences\n",
    "punjabi_sentences = [\n",
    "    \"ਮੇਰਾ ਨਾਮ ਰਿੱਧੀ ਹੈ। ਮੈ ਅੱਜ ਬਹੁਤ ਖੁਸ਼ ਹਾਂ।\",\n",
    "    \"ਤੁਸੀਂ ਇਹ ਬੜਾ ਚੰਗਾ ਕੰਮ ਕਰ ਰਹੇ ਹੋ।\",\n",
    "    \"ਮੈਨੂੰ ਬਿਲਕੁਲ ਪਸੰਦ ਨਹੀਂ ਹੈ।\"\n",
    "]"
   ]
  },
  {
   "cell_type": "code",
   "execution_count": 746,
   "id": "6fad6b7a-3c15-46cd-8834-f7d6e4972935",
   "metadata": {},
   "outputs": [
    {
     "name": "stdout",
     "output_type": "stream",
     "text": [
      "\u001b[1m1/1\u001b[0m \u001b[32m━━━━━━━━━━━━━━━━━━━━\u001b[0m\u001b[37m\u001b[0m \u001b[1m0s\u001b[0m 108ms/step\n",
      "Sentence: ਮੇਰਾ ਨਾਮ ਰਿੱਧੀ ਹੈ। ਮੈ ਅੱਜ ਬਹੁਤ ਖੁਸ਼ ਹਾਂ। - Predicted Sentiment (RNN): neutral\n",
      "Sentence: ਤੁਸੀਂ ਇਹ ਬੜਾ ਚੰਗਾ ਕੰਮ ਕਰ ਰਹੇ ਹੋ। - Predicted Sentiment (RNN): positive\n",
      "Sentence: ਮੈਨੂੰ ਬਿਲਕੁਲ ਪਸੰਦ ਨਹੀਂ ਹੈ। - Predicted Sentiment (RNN): negative\n"
     ]
    }
   ],
   "source": [
    "# Tokenize and pad new sentences\n",
    "punjabi_sequences = tokenizer.texts_to_sequences(punjabi_sentences)\n",
    "punjabi_sequences = pad_sequences(punjabi_sequences, maxlen=X.shape[1])\n",
    "\n",
    "# Predict sentiment using the GRU model\n",
    "sentiment_labels = ['negative', 'neutral', 'positive']\n",
    "prediction = rnn_model.predict(punjabi_sequences)\n",
    "\n",
    "# Display predictions\n",
    "for i, prediction in enumerate(predictions):\n",
    "    sentiment = sentiment_labels[np.argmax(prediction)]\n",
    "    print(f\"Sentence: {punjabi_sentences[i]} - Predicted Sentiment (RNN): {sentiment}\")\n"
   ]
  },
  {
   "cell_type": "code",
   "execution_count": 748,
   "id": "66a87e90-3bbe-44f0-ad2f-001b09f0fecf",
   "metadata": {},
   "outputs": [
    {
     "name": "stdout",
     "output_type": "stream",
     "text": [
      "\u001b[1m1/1\u001b[0m \u001b[32m━━━━━━━━━━━━━━━━━━━━\u001b[0m\u001b[37m\u001b[0m \u001b[1m0s\u001b[0m 90ms/step\n",
      "Sentence: ਮੇਰਾ ਨਾਮ ਰਿੱਧੀ ਹੈ। ਮੈ ਅੱਜ ਬਹੁਤ ਖੁਸ਼ ਹਾਂ। - Predicted Sentiment (GRU): neutral\n",
      "Sentence: ਤੁਸੀਂ ਇਹ ਬੜਾ ਚੰਗਾ ਕੰਮ ਕਰ ਰਹੇ ਹੋ। - Predicted Sentiment (GRU): positive\n",
      "Sentence: ਮੈਨੂੰ ਬਿਲਕੁਲ ਪਸੰਦ ਨਹੀਂ ਹੈ। - Predicted Sentiment (GRU): negative\n"
     ]
    }
   ],
   "source": [
    "predictions2 = gru_model.predict(punjabi_sequences)\n",
    "for i, prediction in enumerate(predictions2):\n",
    "    sentiment = sentiment_labels[np.argmax(prediction)]\n",
    "    print(f\"Sentence: {punjabi_sentences[i]} - Predicted Sentiment (GRU): {sentiment}\")"
   ]
  },
  {
   "cell_type": "code",
   "execution_count": 750,
   "id": "d0d0b0aa-7cbe-4e07-a873-d255bac8ed73",
   "metadata": {},
   "outputs": [
    {
     "name": "stdout",
     "output_type": "stream",
     "text": [
      "\u001b[1m1/1\u001b[0m \u001b[32m━━━━━━━━━━━━━━━━━━━━\u001b[0m\u001b[37m\u001b[0m \u001b[1m0s\u001b[0m 80ms/step\n",
      "Sentence: ਮੇਰਾ ਨਾਮ ਰਿੱਧੀ ਹੈ। ਮੈ ਅੱਜ ਬਹੁਤ ਖੁਸ਼ ਹਾਂ। - Predicted Sentiment (LSTM): neutral\n",
      "Sentence: ਤੁਸੀਂ ਇਹ ਬੜਾ ਚੰਗਾ ਕੰਮ ਕਰ ਰਹੇ ਹੋ। - Predicted Sentiment (LSTM): positive\n",
      "Sentence: ਮੈਨੂੰ ਬਿਲਕੁਲ ਪਸੰਦ ਨਹੀਂ ਹੈ। - Predicted Sentiment (LSTM): negative\n"
     ]
    }
   ],
   "source": [
    "predictions4 =lstm_model.predict(punjabi_sequences)\n",
    "for i, prediction in enumerate(predictions4):\n",
    "    sentiment = sentiment_labels[np.argmax(prediction)]\n",
    "    print(f\"Sentence: {punjabi_sentences[i]} - Predicted Sentiment (LSTM): {sentiment}\")"
   ]
  },
  {
   "cell_type": "code",
   "execution_count": null,
   "id": "aada395a-5662-47e1-803b-bb24250a229a",
   "metadata": {},
   "outputs": [],
   "source": []
  }
 ],
 "metadata": {
  "kernelspec": {
   "display_name": "Python 3 (ipykernel)",
   "language": "python",
   "name": "python3"
  },
  "language_info": {
   "codemirror_mode": {
    "name": "ipython",
    "version": 3
   },
   "file_extension": ".py",
   "mimetype": "text/x-python",
   "name": "python",
   "nbconvert_exporter": "python",
   "pygments_lexer": "ipython3",
   "version": "3.12.4"
  }
 },
 "nbformat": 4,
 "nbformat_minor": 5
}
